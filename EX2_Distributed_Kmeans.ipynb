{
  "nbformat": 4,
  "nbformat_minor": 0,
  "metadata": {
    "colab": {
      "provenance": []
    },
    "kernelspec": {
      "name": "python3",
      "display_name": "Python 3"
    },
    "language_info": {
      "name": "python"
    }
  },
  "cells": [
    {
      "cell_type": "markdown",
      "source": [
        "### Imports"
      ],
      "metadata": {
        "id": "-c82v8K2zg8h"
      }
    },
    {
      "cell_type": "code",
      "execution_count": 4,
      "metadata": {
        "colab": {
          "base_uri": "https://localhost:8080/"
        },
        "id": "sj7ZafTnzZUl",
        "outputId": "d9a14fe1-dfd9-4b5c-8999-ca50b70ef06c"
      },
      "outputs": [
        {
          "output_type": "stream",
          "name": "stdout",
          "text": [
            "Looking in indexes: https://pypi.org/simple, https://us-python.pkg.dev/colab-wheels/public/simple/\n",
            "Collecting pyspark\n",
            "  Downloading pyspark-3.4.0.tar.gz (310.8 MB)\n",
            "\u001b[2K     \u001b[90m━━━━━━━━━━━━━━━━━━━━━━━━━━━━━━━━━━━━━━━\u001b[0m \u001b[32m310.8/310.8 MB\u001b[0m \u001b[31m2.8 MB/s\u001b[0m eta \u001b[36m0:00:00\u001b[0m\n",
            "\u001b[?25h  Preparing metadata (setup.py) ... \u001b[?25l\u001b[?25hdone\n",
            "Requirement already satisfied: py4j==0.10.9.7 in /usr/local/lib/python3.10/dist-packages (from pyspark) (0.10.9.7)\n",
            "Building wheels for collected packages: pyspark\n",
            "  Building wheel for pyspark (setup.py) ... \u001b[?25l\u001b[?25hdone\n",
            "  Created wheel for pyspark: filename=pyspark-3.4.0-py2.py3-none-any.whl size=311317130 sha256=e35a2b755d8d4b7d8cb9bbcb2352fbb8dc8981d3fe9ae303660d7d06fb161caa\n",
            "  Stored in directory: /root/.cache/pip/wheels/7b/1b/4b/3363a1d04368e7ff0d408e57ff57966fcdf00583774e761327\n",
            "Successfully built pyspark\n",
            "Installing collected packages: pyspark\n",
            "Successfully installed pyspark-3.4.0\n"
          ]
        }
      ],
      "source": [
        "# Libraries, installations, and data import to Spark system\n",
        "!pip install pyspark\n",
        "from pyspark.sql import SparkSession\n",
        "spark = SparkSession.builder.appName(\"MySparkApp\").getOrCreate()"
      ]
    },
    {
      "cell_type": "code",
      "source": [
        "import numpy as np\n",
        "import pandas as pd\n",
        "\n",
        "from pyspark.sql.functions import col, expr, rand, udf\n",
        "from pyspark.sql.functions import pandas_udf\n",
        "from pyspark.sql.types import DoubleType\n",
        "from pyspark.sql.functions import array, rand\n",
        "\n",
        "import sklearn\n",
        "import sklearn.metrics as metrics\n",
        "from sklearn.preprocessing import MinMaxScaler\n",
        "from sklearn.metrics import calinski_harabasz_score, adjusted_rand_score\n",
        "\n",
        "from sklearn.preprocessing import MinMaxScaler"
      ],
      "metadata": {
        "id": "v2_NSJ-n10R_"
      },
      "execution_count": 5,
      "outputs": []
    },
    {
      "cell_type": "markdown",
      "source": [
        "# Creating K-Means Algorithm"
      ],
      "metadata": {
        "id": "x61rYQzK1ZP8"
      }
    },
    {
      "cell_type": "markdown",
      "source": [
        "### Create Sub-Functions"
      ],
      "metadata": {
        "id": "jZKtuqgNekPn"
      }
    },
    {
      "cell_type": "markdown",
      "source": [
        "###### Normalize the Data"
      ],
      "metadata": {
        "id": "Hv-FOrqP7AGs"
      }
    },
    {
      "cell_type": "code",
      "source": [
        "def Normalize_dataset(dataset):\n",
        "    scaler = MinMaxScaler()\n",
        "\n",
        "    columns = dataset.columns\n",
        "    features_cols = columns[:-1]\n",
        "    class_col = columns[-1]\n",
        "\n",
        "    # Convert Spark DataFrame to Pandas DataFrame\n",
        "    dataset = dataset.toPandas()\n",
        "\n",
        "    X = dataset[features_cols].astype(float)\n",
        "    y = dataset[class_col].astype(int)\n",
        "    X = pd.DataFrame(scaler.fit_transform(X), columns=features_cols)\n",
        "\n",
        "    # Create a new Pandas DataFrame with scaled features and target column\n",
        "    normalized_df = pd.concat([X, y], axis=1)\n",
        "\n",
        "    # Convert Pandas DataFrame back to Spark DataFrame\n",
        "    df = spark.createDataFrame(normalized_df)\n",
        "\n",
        "    # Convert target column to RDD\n",
        "    y = df.select(class_col).rdd\n",
        "    y = y.map(lambda row: [int(x) for x in row])\n",
        "    y = y.zipWithIndex().map(lambda x: (x[1], x[0]))\n",
        "\n",
        "    # Convert feature columns to RDD\n",
        "    X = df.select(features_cols).rdd\n",
        "    X = X.map(lambda row: [float(x) for x in row])\n",
        "    X = X.zipWithIndex().map(lambda x: (x[1], x[0]))\n",
        "\n",
        "    return X, y"
      ],
      "metadata": {
        "id": "RBADCCIf2umQ"
      },
      "execution_count": 6,
      "outputs": []
    },
    {
      "cell_type": "markdown",
      "source": [
        "###### Find the closest centroid"
      ],
      "metadata": {
        "id": "VshwcVlLEXTE"
      }
    },
    {
      "cell_type": "code",
      "source": [
        "# Define the Euclidean distance function\n",
        "def euclidean_distance(a, b):\n",
        "    return np.sqrt(sum((np.array(a) - np.array(b))**2))\n",
        "\n",
        "# Find the centroid closest to the given row\n",
        "def closest_centroid(row, centroids):\n",
        "    distances = [euclidean_distance(row, centroid[1]) for centroid in centroids]\n",
        "    closest_index = np.argmin(distances)\n",
        "    return closest_index"
      ],
      "metadata": {
        "id": "WFjsY932Easr"
      },
      "execution_count": 7,
      "outputs": []
    },
    {
      "cell_type": "markdown",
      "source": [
        "### Define K-Means Main Function"
      ],
      "metadata": {
        "id": "5jy59rq3Rh2I"
      }
    },
    {
      "cell_type": "markdown",
      "source": [
        "The mapping and reducing procedure are implemented within the main function"
      ],
      "metadata": {
        "id": "v0fJGXiDRY1o"
      }
    },
    {
      "cell_type": "code",
      "source": [
        "def kmeans_spark(dataset_path, k, convergence_threshold=0.0001, num_iterations=30, num_experiments=10):\n",
        "      # Load the dataset to RDD\n",
        "      dataset = spark.read.format(\"csv\").option(\"header\", \"true\").load(dataset_path)\n",
        "      dataset = spark.read.csv(dataset_path, header=True)\n",
        "\n",
        "      # Normalize the dataset using the Normalize_dataset function\n",
        "      # Return features data frame and classes (y) data frame\n",
        "      # The subsequent code expects y to be an RDD containing only the target values without the index.\n",
        "      # By applying the map operation with the lambda function, the code extracts the target values and creates a new RDD with the desired format.\n",
        "      spark_norm_df = Normalize_dataset(dataset)\n",
        "      X = spark_norm_df[0]\n",
        "      y = spark_norm_df[1].map(lambda row: row[1][0])\n",
        "\n",
        "      # Return values returned from all the experiments of the function\n",
        "      CH_res = []\n",
        "      ARI_res = []\n",
        "\n",
        "      for _ in range(num_experiments):\n",
        "        # Create k random initial centroids. Save the centroids as a matrix (list of lists) of coordinates\n",
        "        random_ = X.takeSample(False, k)\n",
        "        centroids_list = [(i, random_[i][1]) for i in range(k)]\n",
        "        centroids_change = float('inf')\n",
        "\n",
        "        for _ in range(num_iterations):\n",
        "\n",
        "          # Mapper:\n",
        "          #This function computes the closest centroid for each data point using the closest_centroid function,\n",
        "          # Takes data point (row[1]) and the list of centroids ([centroid for centroid in centroids_list]).\n",
        "          # Each element of associate_cluster is a list containing two elements: the cluster index and (row[0], row[1]) index, feature values of a data point.\n",
        "          associate_cluster = X.map(lambda row: [closest_centroid(row[1], centroids_list), (row[0], row[1])])\n",
        "\n",
        "          # Extracts the cluster index (row[0]) and the feature values (row[1][1]) from each element -> tmp: (cluster_id, [features])\n",
        "          # An easier data structure to calculate the new centroids from. Temporary because all indexes are dropped\n",
        "          tmp = associate_cluster.map(lambda row: (row[0], row[1][1]))\n",
        "\n",
        "          # Reducer:\n",
        "          # converts the feature values into a tuple with the count of occurrences.\n",
        "          # The resulting RDD contains tuples of the form (cluster_index, (sum_of_features, count)).\n",
        "          # reduceByKey aggregates the tuples with the same cluster index, summing the feature values and counting the occurrences.\n",
        "          # The resulting RDD contains tuples of the form (cluster_index, (sum_of_features, total_count)).\n",
        "          # mapValues applies a lambda function to each value in new_centroids, which calculates the average by dividing the sum of features by the total count.\n",
        "          # The resulting RDD contains tuples of the form (cluster_index, centroid)\n",
        "          # Transform new_centroids to a list and sort it by the index centroid key\n",
        "          new_centroids = tmp.mapValues(lambda v: (v, 1)) \\\n",
        "              .reduceByKey(lambda x, y: (np.array(x[0]) + np.array(y[0]), x[1] + y[1])).mapValues(lambda v: v[0] / v[1])\n",
        "          new_centroids = new_centroids.map(lambda row: (row[0], list(row[1]))).collect()\n",
        "          new_centroids = sorted(new_centroids, key=lambda x: x[0])\n",
        "\n",
        "          # Update centroids to newly calculated ones\n",
        "          centroids_list = new_centroids\n",
        "\n",
        "          # If change in centroids' locations is less than the convergence threshold, stop iterating\n",
        "          centroids_change = sum(euclidean_distance(np.array(old[1]), np.array(new[1])) for old, new in zip(centroids_list, new_centroids))\n",
        "          if centroids_change < convergence_threshold:\n",
        "              break\n",
        "          # else: redo -> pass the new centroids back to the mapper and continue this process for num_iterations - 1.\n",
        "\n",
        "        # Extracts the predicted cluster assignments from the associate_cluster RDD for every sample using map.\n",
        "        predicted_class = associate_cluster.map(lambda row: row[0])\n",
        "\n",
        "        # Extracts the features of each sample from the X RDD (without the row index found in X)\n",
        "        features_evaluate = X.map(lambda row: np.array(row[1]))\n",
        "\n",
        "        # Calculate Calinski and Harabasz score (CH) for this experiment\n",
        "        ch_score = calinski_harabasz_score(features_evaluate.collect(), predicted_class.collect())\n",
        "        CH_res.append(ch_score)\n",
        "\n",
        "        # Calculate Adjusted Rand Index (ARI) for this experiment\n",
        "        ari_score = adjusted_rand_score(y.collect(), predicted_class.collect())\n",
        "        ARI_res.append(ari_score)\n",
        "\n",
        "      # Calculate the average and standard deviation for CH and ARI scores.\n",
        "      # Return intuples as specified\n",
        "      avg_ch_score = round(np.mean(CH_res), 3)\n",
        "      std_ch_score = round(np.std(CH_res), 3)\n",
        "      avg_ari_score = round(np.mean(ARI_res), 3)\n",
        "      std_ari_score = round(np.std(ARI_res), 3)\n",
        "\n",
        "      return (avg_ch_score, std_ch_score), (avg_ari_score, std_ari_score)\n"
      ],
      "metadata": {
        "id": "hJJPV0QGClkg"
      },
      "execution_count": 17,
      "outputs": []
    },
    {
      "cell_type": "markdown",
      "source": [
        "###### Execution local test"
      ],
      "metadata": {
        "id": "RF-ue_mYc4QJ"
      }
    },
    {
      "cell_type": "code",
      "source": [
        "# Create a SparkSession\n",
        "spark = SparkSession.builder.master(\"local\").appName(\"KMeansExample\").getOrCreate()\n",
        "\n",
        "dataset_path = \"/content/glass.csv\"\n",
        "convergence_threshold = 0.0001\n",
        "num_iterations = 30\n",
        "num_experiments = 10\n",
        "k = 5\n",
        "\n",
        "# Call the kmeans_spark function\n",
        "result = kmeans_spark(dataset_path, k, convergence_threshold, num_iterations, num_experiments)\n",
        "\n",
        "# Print or process the result as needed\n",
        "print(result)\n",
        "\n",
        "# Stop the SparkSession\n",
        "spark.stop()"
      ],
      "metadata": {
        "colab": {
          "base_uri": "https://localhost:8080/"
        },
        "id": "oEdVWkYDhu2L",
        "outputId": "c1c4d4e6-7eb4-4673-ac99-d59faa01c354"
      },
      "execution_count": 28,
      "outputs": [
        {
          "output_type": "stream",
          "name": "stdout",
          "text": [
            "((59.947, 16.46), (0.168, 0.074))\n"
          ]
        }
      ]
    },
    {
      "cell_type": "markdown",
      "source": [
        "### Activation on 3 Data Sets and Results Collection"
      ],
      "metadata": {
        "id": "ZZAVOqODevwB"
      }
    },
    {
      "cell_type": "markdown",
      "source": [
        "###### Create Final Result Set"
      ],
      "metadata": {
        "id": "oMxHrI_Nf4rz"
      }
    },
    {
      "cell_type": "code",
      "source": [
        "# Example usage\n",
        "\n",
        "dataset_paths = [\"/content/glass.csv\",\"/content/iris.csv\",\"/content/parkinson.csv\"]\n",
        "dataset_names = [\"glass\",\"iris\",\"parkinson\"]\n",
        "convergence_threshold = 0.0001\n",
        "num_iterations = 30\n",
        "num_experiments = 10\n",
        "\n",
        "table = {\"Dataset name\":[],\"The value of K\":[],\"Average and std CH\":[],\"Average and std ARI\":[]}\n",
        "for dataset_i in range(len(dataset_names)):\n",
        "  # Create results for different number of clusters\n",
        "  for k in [2,3,4]:\n",
        "    # Create a SparkSession\n",
        "    spark = SparkSession.builder.master(\"local\").appName(\"KMeansExample\").getOrCreate()\n",
        "\n",
        "    tmp = kmeans_spark(dataset_path, k, convergence_threshold, num_iterations, num_experiments)\n",
        "    table[\"Dataset name\"].append(dataset_names[dataset_i])\n",
        "    table[\"The value of K\"].append(k)\n",
        "    table[\"Average and std CH\"].append(tmp[0])\n",
        "    table[\"Average and std ARI\"].append(tmp[1])\n",
        "    print(f'Updated result in table for db: {dataset_names[dataset_i]}, and k = {k}')\n",
        "\n",
        "final_res = pd.DataFrame(table)\n",
        "final_res.to_excel('K-2-3-4.xlsx', index=True)"
      ],
      "metadata": {
        "colab": {
          "base_uri": "https://localhost:8080/"
        },
        "id": "7HHCby4W6vZ_",
        "outputId": "1acbf5f1-a23d-487d-f6bc-bfb19d6b8528"
      },
      "execution_count": 35,
      "outputs": [
        {
          "output_type": "stream",
          "name": "stdout",
          "text": [
            "Updated result in table for db: glass, and k = 2\n",
            "Updated result in table for db: glass, and k = 3\n",
            "Updated result in table for db: glass, and k = 4\n",
            "Updated result in table for db: iris, and k = 2\n",
            "Updated result in table for db: iris, and k = 3\n",
            "Updated result in table for db: iris, and k = 4\n",
            "Updated result in table for db: parkinson, and k = 2\n",
            "Updated result in table for db: parkinson, and k = 3\n",
            "Updated result in table for db: parkinson, and k = 4\n"
          ]
        }
      ]
    },
    {
      "cell_type": "code",
      "source": [
        "# Example usage\n",
        "import time\n",
        "\n",
        "dataset_paths = [\"/content/glass.csv\",\"/content/iris.csv\",\"/content/parkinson.csv\"]\n",
        "dataset_names = [\"glass\",\"iris\",\"parkinson\"]\n",
        "convergence_threshold = 0.0001\n",
        "num_iterations = 30\n",
        "num_experiments = 10\n",
        "\n",
        "table = {\"Dataset name\":[],\"The value of K\":[],\"Average and std CH\":[],\"Average and std ARI\":[]}\n",
        "for dataset_i in range(len(dataset_names)):\n",
        "  # Create results for different number of clusters\n",
        "  for k in [5]:\n",
        "    # Create a SparkSession\n",
        "    spark = SparkSession.builder.master(\"local\").appName(\"KMeansExample\").getOrCreate()\n",
        "\n",
        "    tmp = kmeans_spark(dataset_path, k, convergence_threshold, num_iterations, num_experiments)\n",
        "    table[\"Dataset name\"].append(dataset_names[dataset_i])\n",
        "    table[\"The value of K\"].append(k)\n",
        "    table[\"Average and std CH\"].append(tmp[0])\n",
        "    table[\"Average and std ARI\"].append(tmp[1])\n",
        "    print(f'Updated result in table for db: {dataset_names[dataset_i]}, and k = {k}')\n",
        "    time.sleep(5)\n",
        "\n",
        "\n",
        "final_res = pd.DataFrame(table)\n",
        "final_res.to_excel('K5.xlsx', index=True)"
      ],
      "metadata": {
        "colab": {
          "base_uri": "https://localhost:8080/"
        },
        "id": "uoE-5CvzlzuE",
        "outputId": "2e5f37d4-7651-4f70-c7a3-ae082f5bc45b"
      },
      "execution_count": 36,
      "outputs": [
        {
          "output_type": "stream",
          "name": "stdout",
          "text": [
            "Updated result in table for db: glass, and k = 5\n",
            "Updated result in table for db: iris, and k = 5\n",
            "Updated result in table for db: parkinson, and k = 5\n"
          ]
        }
      ]
    },
    {
      "cell_type": "code",
      "source": [
        "final_res"
      ],
      "metadata": {
        "colab": {
          "base_uri": "https://localhost:8080/",
          "height": 143
        },
        "id": "rkl5eP9In1HF",
        "outputId": "d6d1fef4-ffb0-4493-acf8-ab260b091fac"
      },
      "execution_count": 33,
      "outputs": [
        {
          "output_type": "execute_result",
          "data": {
            "text/plain": [
              "  Dataset name  The value of K Average and std CH Average and std ARI\n",
              "0        glass               5    (65.538, 9.262)       (0.166, 0.04)\n",
              "1         iris               5    (66.378, 8.471)       (0.17, 0.036)\n",
              "2    parkinson               5    (57.545, 9.531)      (0.168, 0.048)"
            ],
            "text/html": [
              "\n",
              "  <div id=\"df-92eaa62b-4fb2-4576-b722-36f15e5f2f4d\">\n",
              "    <div class=\"colab-df-container\">\n",
              "      <div>\n",
              "<style scoped>\n",
              "    .dataframe tbody tr th:only-of-type {\n",
              "        vertical-align: middle;\n",
              "    }\n",
              "\n",
              "    .dataframe tbody tr th {\n",
              "        vertical-align: top;\n",
              "    }\n",
              "\n",
              "    .dataframe thead th {\n",
              "        text-align: right;\n",
              "    }\n",
              "</style>\n",
              "<table border=\"1\" class=\"dataframe\">\n",
              "  <thead>\n",
              "    <tr style=\"text-align: right;\">\n",
              "      <th></th>\n",
              "      <th>Dataset name</th>\n",
              "      <th>The value of K</th>\n",
              "      <th>Average and std CH</th>\n",
              "      <th>Average and std ARI</th>\n",
              "    </tr>\n",
              "  </thead>\n",
              "  <tbody>\n",
              "    <tr>\n",
              "      <th>0</th>\n",
              "      <td>glass</td>\n",
              "      <td>5</td>\n",
              "      <td>(65.538, 9.262)</td>\n",
              "      <td>(0.166, 0.04)</td>\n",
              "    </tr>\n",
              "    <tr>\n",
              "      <th>1</th>\n",
              "      <td>iris</td>\n",
              "      <td>5</td>\n",
              "      <td>(66.378, 8.471)</td>\n",
              "      <td>(0.17, 0.036)</td>\n",
              "    </tr>\n",
              "    <tr>\n",
              "      <th>2</th>\n",
              "      <td>parkinson</td>\n",
              "      <td>5</td>\n",
              "      <td>(57.545, 9.531)</td>\n",
              "      <td>(0.168, 0.048)</td>\n",
              "    </tr>\n",
              "  </tbody>\n",
              "</table>\n",
              "</div>\n",
              "      <button class=\"colab-df-convert\" onclick=\"convertToInteractive('df-92eaa62b-4fb2-4576-b722-36f15e5f2f4d')\"\n",
              "              title=\"Convert this dataframe to an interactive table.\"\n",
              "              style=\"display:none;\">\n",
              "        \n",
              "  <svg xmlns=\"http://www.w3.org/2000/svg\" height=\"24px\"viewBox=\"0 0 24 24\"\n",
              "       width=\"24px\">\n",
              "    <path d=\"M0 0h24v24H0V0z\" fill=\"none\"/>\n",
              "    <path d=\"M18.56 5.44l.94 2.06.94-2.06 2.06-.94-2.06-.94-.94-2.06-.94 2.06-2.06.94zm-11 1L8.5 8.5l.94-2.06 2.06-.94-2.06-.94L8.5 2.5l-.94 2.06-2.06.94zm10 10l.94 2.06.94-2.06 2.06-.94-2.06-.94-.94-2.06-.94 2.06-2.06.94z\"/><path d=\"M17.41 7.96l-1.37-1.37c-.4-.4-.92-.59-1.43-.59-.52 0-1.04.2-1.43.59L10.3 9.45l-7.72 7.72c-.78.78-.78 2.05 0 2.83L4 21.41c.39.39.9.59 1.41.59.51 0 1.02-.2 1.41-.59l7.78-7.78 2.81-2.81c.8-.78.8-2.07 0-2.86zM5.41 20L4 18.59l7.72-7.72 1.47 1.35L5.41 20z\"/>\n",
              "  </svg>\n",
              "      </button>\n",
              "      \n",
              "  <style>\n",
              "    .colab-df-container {\n",
              "      display:flex;\n",
              "      flex-wrap:wrap;\n",
              "      gap: 12px;\n",
              "    }\n",
              "\n",
              "    .colab-df-convert {\n",
              "      background-color: #E8F0FE;\n",
              "      border: none;\n",
              "      border-radius: 50%;\n",
              "      cursor: pointer;\n",
              "      display: none;\n",
              "      fill: #1967D2;\n",
              "      height: 32px;\n",
              "      padding: 0 0 0 0;\n",
              "      width: 32px;\n",
              "    }\n",
              "\n",
              "    .colab-df-convert:hover {\n",
              "      background-color: #E2EBFA;\n",
              "      box-shadow: 0px 1px 2px rgba(60, 64, 67, 0.3), 0px 1px 3px 1px rgba(60, 64, 67, 0.15);\n",
              "      fill: #174EA6;\n",
              "    }\n",
              "\n",
              "    [theme=dark] .colab-df-convert {\n",
              "      background-color: #3B4455;\n",
              "      fill: #D2E3FC;\n",
              "    }\n",
              "\n",
              "    [theme=dark] .colab-df-convert:hover {\n",
              "      background-color: #434B5C;\n",
              "      box-shadow: 0px 1px 3px 1px rgba(0, 0, 0, 0.15);\n",
              "      filter: drop-shadow(0px 1px 2px rgba(0, 0, 0, 0.3));\n",
              "      fill: #FFFFFF;\n",
              "    }\n",
              "  </style>\n",
              "\n",
              "      <script>\n",
              "        const buttonEl =\n",
              "          document.querySelector('#df-92eaa62b-4fb2-4576-b722-36f15e5f2f4d button.colab-df-convert');\n",
              "        buttonEl.style.display =\n",
              "          google.colab.kernel.accessAllowed ? 'block' : 'none';\n",
              "\n",
              "        async function convertToInteractive(key) {\n",
              "          const element = document.querySelector('#df-92eaa62b-4fb2-4576-b722-36f15e5f2f4d');\n",
              "          const dataTable =\n",
              "            await google.colab.kernel.invokeFunction('convertToInteractive',\n",
              "                                                     [key], {});\n",
              "          if (!dataTable) return;\n",
              "\n",
              "          const docLinkHtml = 'Like what you see? Visit the ' +\n",
              "            '<a target=\"_blank\" href=https://colab.research.google.com/notebooks/data_table.ipynb>data table notebook</a>'\n",
              "            + ' to learn more about interactive tables.';\n",
              "          element.innerHTML = '';\n",
              "          dataTable['output_type'] = 'display_data';\n",
              "          await google.colab.output.renderOutput(dataTable, element);\n",
              "          const docLink = document.createElement('div');\n",
              "          docLink.innerHTML = docLinkHtml;\n",
              "          element.appendChild(docLink);\n",
              "        }\n",
              "      </script>\n",
              "    </div>\n",
              "  </div>\n",
              "  "
            ]
          },
          "metadata": {},
          "execution_count": 33
        }
      ]
    },
    {
      "cell_type": "markdown",
      "source": [
        "This procedure is very heavy on collab, so we devided it to several runs."
      ],
      "metadata": {
        "id": "Pb4EGRCZpxig"
      }
    },
    {
      "cell_type": "markdown",
      "source": [
        "###### Final Results:"
      ],
      "metadata": {
        "id": "7alJQSKjp-1b"
      }
    },
    {
      "cell_type": "markdown",
      "source": [
        "![image.png](data:image/png;base64,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)"
      ],
      "metadata": {
        "id": "UrP26rhXqpny"
      }
    }
  ]
}